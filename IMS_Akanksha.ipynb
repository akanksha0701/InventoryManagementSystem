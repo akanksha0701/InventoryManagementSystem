{
 "cells": [
  {
   "cell_type": "code",
   "execution_count": 27,
   "metadata": {},
   "outputs": [],
   "source": [
    "dct={80001: {\"name\": \"Anshul\", \"sci\": 78, \"maths\": 90, \"eng\": 62, \"sst\": 68},\n",
    "80002: {\"name\": \"Abhay\", \"sci\": 58, \"maths\": 98, \"eng\": 72, \"sst\": 98},\n",
    "80003: {\"name\": \"Akash\", \"sci\": 68, \"maths\": 65, \"eng\": 82, \"sst\": 66},\n",
    "80004: {\"name\": \"Amrit\", \"sci\": 98, \"maths\": 80, \"eng\": 92, \"sst\": 67},\n",
    "80005: {\"name\": \"Amogh\", \"sci\": 88, \"maths\": 70, \"eng\": 92, \"sst\": 68},\n",
    "80006: {\"name\": \"Aryan\", \"sci\": 76, \"maths\": 74, \"eng\": 92, \"sst\": 69},\n",
    "80007: {\"name\": \"Asmita\", \"sci\": 79, \"maths\": 59, \"eng\": 98, \"sst\": 78},\n",
    "80008: {\"name\": \"Aniket\", \"sci\": 78, \"maths\": 78, \"eng\": 85, \"sst\": 98},\n",
    "80009: {\"name\": \"Arshiya\", \"sci\": 74, \"maths\": 59, \"eng\": 92, \"sst\": 88},\n",
    "80010: {\"name\": \"Mehul\", \"sci\": 71, \"maths\": 97, \"eng\": 89, \"sst\": 99},\n",
    "80011: {\"name\": \"Manish\", \"sci\": 66, \"maths\":74, \"eng\": 78, \"sst\": 100},\n",
    "80012: {\"name\": \"Sankalp\", \"sci\": 67, \"maths\": 97, \"eng\": 96, \"sst\": 98},\n",
    "80013: {\"name\": \"Abdul\", \"sci\": 97, \"maths\": 99, \"eng\": 96, \"sst\": 84},\n",
    "80014: {\"name\": \"Aakarsh\", \"sci\": 74, \"maths\": 82, \"eng\": 82, \"sst\": 85},\n",
    "80015: {\"name\": \"Amal\", \"sci\": 93, \"maths\": 92, \"eng\": 87, \"sst\": 86},\n",
    "80016: {\"name\": \"Denver\", \"sci\": 54, \"maths\": 74, \"eng\": 85, \"sst\": 87},\n",
    "80017: {\"name\": \"Anthony\", \"sci\": 77, \"maths\": 76, \"eng\": 91, \"sst\": 73},\n",
    "80018: {\"name\": \"Sandhya\", \"sci\": 98, \"maths\": 98, \"eng\": 94, \"sst\": 81},\n",
    "80019: {\"name\": \"Mehek\", \"sci\": 80, \"maths\": 89, \"eng\": 74, \"sst\": 99},\n",
    "80020: {\"name\": \"Riya\", \"sci\": 99, \"maths\": 94, \"eng\": 85, \"sst\": 83},\n",
    "80021: {\"name\": \"Swati\", \"sci\": 76, \"maths\": 80, \"eng\": 90, \"sst\": 78},\n",
    "80022: {\"name\": \"Rohini\", \"sci\": 91, \"maths\": 90, \"eng\": 72, \"sst\": 98},\n",
    "80023: {\"name\": \"Abhilasha\", \"sci\": 75, \"maths\": 70, \"eng\": 92, \"sst\": 83},\n",
    "80024: {\"name\": \"Akshata\", \"sci\": 98, \"maths\": 90, \"eng\": 84, \"sst\": 85},\n",
    "80025: {\"name\": \"Amrutha\", \"sci\": 73, \"maths\": 87, \"eng\": 92, \"sst\": 97},\n",
    "80026: {\"name\": \"Salman\", \"sci\": 81, \"maths\": 97, \"eng\": 98, \"sst\": 90},\n",
    "80027: {\"name\": \"Kartik\", \"sci\": 92, \"maths\": 74, \"eng\": 88, \"sst\": 82},\n",
    "80028: {\"name\": \"Abhi\", \"sci\": 98, \"maths\": 96, \"eng\": 77, \"sst\": 79},\n",
    "80029: {\"name\": \"Smita\", \"sci\": 70, \"maths\": 77, \"eng\": 94, \"sst\": 94},\n",
    "80030: {\"name\": \"Saurabh\", \"sci\": 98, \"maths\": 66, \"eng\": 82, \"sst\": 89}\n",
    "}\n"
   ]
  },
  {
   "cell_type": "code",
   "execution_count": 33,
   "metadata": {},
   "outputs": [
    {
     "data": {
      "text/plain": [
       "{80001: {'name': 'Anshul', 'sci': 78, 'maths': 90, 'eng': 62, 'sst': 68},\n",
       " 80002: {'name': 'Abhay', 'sci': 58, 'maths': 98, 'eng': 72, 'sst': 98},\n",
       " 80003: {'name': 'Akash', 'sci': 68, 'maths': 65, 'eng': 82, 'sst': 66},\n",
       " 80004: {'name': 'Amrit', 'sci': 98, 'maths': 80, 'eng': 92, 'sst': 67},\n",
       " 80005: {'name': 'Amogh', 'sci': 88, 'maths': 70, 'eng': 92, 'sst': 68},\n",
       " 80006: {'name': 'Aryan', 'sci': 76, 'maths': 74, 'eng': 92, 'sst': 69},\n",
       " 80007: {'name': 'Asmita', 'sci': 79, 'maths': 59, 'eng': 98, 'sst': 78},\n",
       " 80008: {'name': 'Aniket', 'sci': 78, 'maths': 78, 'eng': 85, 'sst': 98},\n",
       " 80009: {'name': 'Arshiya', 'sci': 74, 'maths': 59, 'eng': 92, 'sst': 88},\n",
       " 80010: {'name': 'Mehul', 'sci': 71, 'maths': 97, 'eng': 89, 'sst': 99},\n",
       " 80011: {'name': 'Manish', 'sci': 66, 'maths': 74, 'eng': 78, 'sst': 100},\n",
       " 80012: {'name': 'Sankalp', 'sci': 67, 'maths': 97, 'eng': 96, 'sst': 98},\n",
       " 80013: {'name': 'Abdul', 'sci': 97, 'maths': 99, 'eng': 96, 'sst': 84},\n",
       " 80014: {'name': 'Aakarsh', 'sci': 74, 'maths': 82, 'eng': 82, 'sst': 85},\n",
       " 80015: {'name': 'Amal', 'sci': 93, 'maths': 92, 'eng': 87, 'sst': 86},\n",
       " 80016: {'name': 'Denver', 'sci': 54, 'maths': 74, 'eng': 85, 'sst': 87},\n",
       " 80017: {'name': 'Anthony', 'sci': 77, 'maths': 76, 'eng': 91, 'sst': 73},\n",
       " 80018: {'name': 'Sandhya', 'sci': 98, 'maths': 98, 'eng': 94, 'sst': 81},\n",
       " 80019: {'name': 'Mehek', 'sci': 80, 'maths': 89, 'eng': 74, 'sst': 99},\n",
       " 80020: {'name': 'Riya', 'sci': 99, 'maths': 94, 'eng': 85, 'sst': 83},\n",
       " 80021: {'name': 'Swati', 'sci': 76, 'maths': 80, 'eng': 90, 'sst': 78},\n",
       " 80022: {'name': 'Rohini', 'sci': 91, 'maths': 90, 'eng': 72, 'sst': 98},\n",
       " 80023: {'name': 'Abhilasha', 'sci': 75, 'maths': 70, 'eng': 92, 'sst': 83},\n",
       " 80024: {'name': 'Akshata', 'sci': 98, 'maths': 90, 'eng': 84, 'sst': 85},\n",
       " 80025: {'name': 'Amrutha', 'sci': 73, 'maths': 87, 'eng': 92, 'sst': 97},\n",
       " 80026: {'name': 'Salman', 'sci': 81, 'maths': 97, 'eng': 98, 'sst': 90},\n",
       " 80027: {'name': 'Kartik', 'sci': 92, 'maths': 74, 'eng': 88, 'sst': 82},\n",
       " 80028: {'name': 'Abhi', 'sci': 98, 'maths': 96, 'eng': 77, 'sst': 79},\n",
       " 80029: {'name': 'Smita', 'sci': 70, 'maths': 77, 'eng': 94, 'sst': 94},\n",
       " 80030: {'name': 'Saurabh', 'sci': 98, 'maths': 66, 'eng': 82, 'sst': 89}}"
      ]
     },
     "execution_count": 33,
     "metadata": {},
     "output_type": "execute_result"
    }
   ],
   "source": [
    "dct"
   ]
  },
  {
   "cell_type": "code",
   "execution_count": 34,
   "metadata": {},
   "outputs": [
    {
     "data": {
      "text/plain": [
       "{'name': 'Akshata', 'sci': 98, 'maths': 90, 'eng': 84, 'sst': 85}"
      ]
     },
     "execution_count": 34,
     "metadata": {},
     "output_type": "execute_result"
    }
   ],
   "source": [
    "dct[80024]"
   ]
  },
  {
   "cell_type": "code",
   "execution_count": 35,
   "metadata": {},
   "outputs": [
    {
     "data": {
      "text/plain": [
       "92"
      ]
     },
     "execution_count": 35,
     "metadata": {},
     "output_type": "execute_result"
    }
   ],
   "source": [
    "dct[80027]['sci']"
   ]
  },
  {
   "cell_type": "code",
   "execution_count": 36,
   "metadata": {},
   "outputs": [
    {
     "data": {
      "text/plain": [
       "89"
      ]
     },
     "execution_count": 36,
     "metadata": {},
     "output_type": "execute_result"
    }
   ],
   "source": [
    "dct[80030]['sst']"
   ]
  },
  {
   "cell_type": "code",
   "execution_count": null,
   "metadata": {},
   "outputs": [],
   "source": []
  }
 ],
 "metadata": {
  "kernelspec": {
   "display_name": "Python 3",
   "language": "python",
   "name": "python3"
  },
  "language_info": {
   "codemirror_mode": {
    "name": "ipython",
    "version": 3
   },
   "file_extension": ".py",
   "mimetype": "text/x-python",
   "name": "python",
   "nbconvert_exporter": "python",
   "pygments_lexer": "ipython3",
   "version": "3.7.6"
  }
 },
 "nbformat": 4,
 "nbformat_minor": 4
}
